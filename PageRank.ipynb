{
 "cells": [
  {
   "cell_type": "markdown",
   "metadata": {},
   "source": [
    "# Simple and Modified PageRank"
   ]
  },
  {
   "cell_type": "code",
   "execution_count": 1,
   "metadata": {},
   "outputs": [],
   "source": [
    "import numpy as np\n",
    "import networkx as nx\n",
    "import matplotlib.pyplot as plt\n",
    "import random as rn"
   ]
  },
  {
   "cell_type": "markdown",
   "metadata": {},
   "source": [
    "# Creating Random Graph"
   ]
  },
  {
   "cell_type": "code",
   "execution_count": 2,
   "metadata": {},
   "outputs": [],
   "source": [
    "def createGraph(n,p):\n",
    "    g=nx.gnp_random_graph(n,p)\n",
    "    draw=nx.draw(g,pos=nx.spring_layout(g),with_labels=True)\n",
    "    Adj=nx.adjacency_matrix(g).todense().astype(float)\n",
    "    print(Adj)\n",
    "    for i in range(len(Adj)):\n",
    "        if(np.all(Adj[i]==0)):\n",
    "            pass\n",
    "        else:\n",
    "            Adj[i]=Adj[i]/np.sum(Adj[i])\n",
    "    return(g,Adj)"
   ]
  },
  {
   "cell_type": "code",
   "execution_count": 3,
   "metadata": {},
   "outputs": [
    {
     "name": "stderr",
     "output_type": "stream",
     "text": [
      "/home/atul/anaconda3/lib/python3.7/site-packages/networkx/drawing/nx_pylab.py:611: MatplotlibDeprecationWarning: isinstance(..., numbers.Number)\n",
      "  if cb.is_numlike(alpha):\n"
     ]
    },
    {
     "name": "stdout",
     "output_type": "stream",
     "text": [
      "[[0. 0. 0. 1.]\n",
      " [0. 0. 1. 0.]\n",
      " [0. 1. 0. 1.]\n",
      " [1. 0. 1. 0.]]\n"
     ]
    },
    {
     "data": {
      "image/png": "[encoded data removed]",
      "text/plain": [
       "<Figure size 432x288 with 1 Axes>"
      ]
     },
     "metadata": {},
     "output_type": "display_data"
    }
   ],
   "source": [
    "g,trans=createGraph(4,0.3)"
   ]
  },
  {
   "cell_type": "code",
   "execution_count": 4,
   "metadata": {},
   "outputs": [
    {
     "data": {
      "text/plain": [
       "matrix([[0. , 0. , 0. , 1. ],\n",
       "        [0. , 0. , 1. , 0. ],\n",
       "        [0. , 0.5, 0. , 0.5],\n",
       "        [0.5, 0. , 0.5, 0. ]])"
      ]
     },
     "execution_count": 4,
     "metadata": {},
     "output_type": "execute_result"
    }
   ],
   "source": [
    "trans #transition Matrix"
   ]
  },
  {
   "cell_type": "code",
   "execution_count": 5,
   "metadata": {},
   "outputs": [
    {
     "data": {
      "text/plain": [
       "(1, 4)"
      ]
     },
     "execution_count": 5,
     "metadata": {},
     "output_type": "execute_result"
    }
   ],
   "source": [
    "probMat=np.matrix([1/4,1/4,1/4,1/4]) #initial probability distribution matrix\n",
    "probMat.shape"
   ]
  },
  {
   "cell_type": "markdown",
   "metadata": {},
   "source": [
    "# Simplified PageRank"
   ]
  },
  {
   "cell_type": "code",
   "execution_count": 6,
   "metadata": {},
   "outputs": [],
   "source": [
    "def simplifiedPageRank(probMat,trans):\n",
    "    maxiter=100\n",
    "    for i in range(maxiter):\n",
    "        probMat1=probMat.dot(trans)\n",
    "        probMat2=probMat1.dot(trans)\n",
    "        probMat=probMat2\n",
    "        if(np.all((probMat1-probMat2)<0.0001)):\n",
    "            break\n",
    "    return(probMat)"
   ]
  },
  {
   "cell_type": "code",
   "execution_count": 7,
   "metadata": {},
   "outputs": [
    {
     "data": {
      "text/plain": [
       "matrix([[0.16668701, 0.16668701, 0.33331299, 0.33331299]])"
      ]
     },
     "execution_count": 7,
     "metadata": {},
     "output_type": "execute_result"
    }
   ],
   "source": [
    "simplifiedPageRank(probMat,trans)"
   ]
  },
  {
   "cell_type": "markdown",
   "metadata": {},
   "source": [
    "# Modified PageRank"
   ]
  },
  {
   "cell_type": "code",
   "execution_count": 8,
   "metadata": {},
   "outputs": [],
   "source": [
    "def modifiedPageRank(probMat,trans,c):\n",
    "    maxiter=100\n",
    "    jumpMat=np.matrix([1/probMat.shape[1]]*probMat.shape[1])\n",
    "    for i in range(maxiter):\n",
    "        probMat1=c*probMat.dot(trans) +(1-c)*jumpMat\n",
    "        probMat2=c*probMat1.dot(trans) +(1-c)*jumpMat\n",
    "        probMat=probMat2\n",
    "        if(np.all((probMat1-probMat2)<0.0001)):\n",
    "            break\n",
    "    return(probMat)"
   ]
  },
  {
   "cell_type": "code",
   "execution_count": 9,
   "metadata": {},
   "outputs": [
    {
     "data": {
      "text/plain": [
       "matrix([[0.17857892, 0.17857892, 0.32142108, 0.32142108]])"
      ]
     },
     "execution_count": 9,
     "metadata": {},
     "output_type": "execute_result"
    }
   ],
   "source": [
    "modifiedPageRank(probMat,trans,0.8)"
   ]
  }
 ],
 "metadata": {
  "kernelspec": {
   "display_name": "Python 3",
   "language": "python",
   "name": "python3"
  },
  "language_info": {
   "codemirror_mode": {
    "name": "ipython",
    "version": 3
   },
   "file_extension": ".py",
   "mimetype": "text/x-python",
   "name": "python",
   "nbconvert_exporter": "python",
   "pygments_lexer": "ipython3",
   "version": "3.7.1"
  }
 },
 "nbformat": 4,
 "nbformat_minor": 2
}
